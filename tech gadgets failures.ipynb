{
 "cells": [
  {
   "cell_type": "markdown",
   "id": "d5ab47b3",
   "metadata": {},
   "source": [
    "### Importing Libraries"
   ]
  },
  {
   "cell_type": "code",
   "execution_count": 492,
   "id": "7038a748",
   "metadata": {},
   "outputs": [],
   "source": [
    "import pandas as pd\n",
    "import numpy as np\n",
    "import matplotlib.pyplot as plt\n",
    "import seaborn as sns\n",
    "import warnings\n",
    "warnings.filterwarnings(\"ignore\")\n",
    " "
   ]
  },
  {
   "cell_type": "markdown",
   "id": "b39c723b",
   "metadata": {},
   "source": [
    "### Load the Dataset"
   ]
  },
  {
   "cell_type": "code",
   "execution_count": 185,
   "id": "f180fc2d",
   "metadata": {},
   "outputs": [],
   "source": [
    "data=pd.read_csv(r\"C:\\Users\\DANISH\\Desktop\\EDA\\project\\tech_gadget_failures.csv\")"
   ]
  },
  {
   "cell_type": "markdown",
   "id": "08c3257f",
   "metadata": {},
   "source": [
    "### Basic Exploration"
   ]
  },
  {
   "cell_type": "code",
   "execution_count": 116,
   "id": "c57ba719",
   "metadata": {},
   "outputs": [
    {
     "data": {
      "text/html": [
       "<div>\n",
       "<style scoped>\n",
       "    .dataframe tbody tr th:only-of-type {\n",
       "        vertical-align: middle;\n",
       "    }\n",
       "\n",
       "    .dataframe tbody tr th {\n",
       "        vertical-align: top;\n",
       "    }\n",
       "\n",
       "    .dataframe thead th {\n",
       "        text-align: right;\n",
       "    }\n",
       "</style>\n",
       "<table border=\"1\" class=\"dataframe\">\n",
       "  <thead>\n",
       "    <tr style=\"text-align: right;\">\n",
       "      <th></th>\n",
       "      <th>Failure_ID</th>\n",
       "      <th>Device_Type</th>\n",
       "      <th>Brand</th>\n",
       "      <th>Model_Name</th>\n",
       "      <th>Usage_Duration</th>\n",
       "      <th>Failure_Type</th>\n",
       "      <th>Warranty_Status</th>\n",
       "      <th>Repair_Cost</th>\n",
       "      <th>Customer_Rating</th>\n",
       "      <th>Comments</th>\n",
       "    </tr>\n",
       "  </thead>\n",
       "  <tbody>\n",
       "    <tr>\n",
       "      <th>0</th>\n",
       "      <td>FAIL00001</td>\n",
       "      <td>Smartwatch</td>\n",
       "      <td>Dell</td>\n",
       "      <td>Model-637</td>\n",
       "      <td>47.0</td>\n",
       "      <td>Battery Issue</td>\n",
       "      <td>No</td>\n",
       "      <td>1638.42</td>\n",
       "      <td>1.2</td>\n",
       "      <td>Perfect repair</td>\n",
       "    </tr>\n",
       "    <tr>\n",
       "      <th>1</th>\n",
       "      <td>FAIL00002</td>\n",
       "      <td>Gaming Console</td>\n",
       "      <td>OnePlus</td>\n",
       "      <td>Model-873</td>\n",
       "      <td>21.0</td>\n",
       "      <td>Overheating</td>\n",
       "      <td>Yes</td>\n",
       "      <td>3137.30</td>\n",
       "      <td>2.6</td>\n",
       "      <td>Fixed quickly</td>\n",
       "    </tr>\n",
       "    <tr>\n",
       "      <th>2</th>\n",
       "      <td>FAIL00003</td>\n",
       "      <td>Smartphone</td>\n",
       "      <td>HP</td>\n",
       "      <td>Model-543</td>\n",
       "      <td>16.0</td>\n",
       "      <td>Screen Crack</td>\n",
       "      <td>No</td>\n",
       "      <td>4252.81</td>\n",
       "      <td>1.1</td>\n",
       "      <td>NaN</td>\n",
       "    </tr>\n",
       "    <tr>\n",
       "      <th>3</th>\n",
       "      <td>FAIL00004</td>\n",
       "      <td>Laptop</td>\n",
       "      <td>Sony</td>\n",
       "      <td>Model-352</td>\n",
       "      <td>11.0</td>\n",
       "      <td>Screen Crack</td>\n",
       "      <td>No</td>\n",
       "      <td>3115.47</td>\n",
       "      <td>2.4</td>\n",
       "      <td>Fixed quickly</td>\n",
       "    </tr>\n",
       "    <tr>\n",
       "      <th>4</th>\n",
       "      <td>FAIL00005</td>\n",
       "      <td>Gaming Console</td>\n",
       "      <td>OnePlus</td>\n",
       "      <td>Model-538</td>\n",
       "      <td>6.0</td>\n",
       "      <td>Software Crash</td>\n",
       "      <td>Yes</td>\n",
       "      <td>939.52</td>\n",
       "      <td>4.1</td>\n",
       "      <td>Not satisfied</td>\n",
       "    </tr>\n",
       "  </tbody>\n",
       "</table>\n",
       "</div>"
      ],
      "text/plain": [
       "  Failure_ID     Device_Type    Brand Model_Name  Usage_Duration  \\\n",
       "0  FAIL00001      Smartwatch     Dell  Model-637            47.0   \n",
       "1  FAIL00002  Gaming Console  OnePlus  Model-873            21.0   \n",
       "2  FAIL00003      Smartphone       HP  Model-543            16.0   \n",
       "3  FAIL00004          Laptop     Sony  Model-352            11.0   \n",
       "4  FAIL00005  Gaming Console  OnePlus  Model-538             6.0   \n",
       "\n",
       "     Failure_Type Warranty_Status  Repair_Cost  Customer_Rating  \\\n",
       "0   Battery Issue              No      1638.42              1.2   \n",
       "1     Overheating             Yes      3137.30              2.6   \n",
       "2    Screen Crack              No      4252.81              1.1   \n",
       "3    Screen Crack              No      3115.47              2.4   \n",
       "4  Software Crash             Yes       939.52              4.1   \n",
       "\n",
       "         Comments  \n",
       "0  Perfect repair  \n",
       "1   Fixed quickly  \n",
       "2             NaN  \n",
       "3   Fixed quickly  \n",
       "4   Not satisfied  "
      ]
     },
     "execution_count": 116,
     "metadata": {},
     "output_type": "execute_result"
    }
   ],
   "source": [
    "data.head()"
   ]
  },
  {
   "cell_type": "code",
   "execution_count": 117,
   "id": "f839f104",
   "metadata": {},
   "outputs": [
    {
     "data": {
      "text/html": [
       "<div>\n",
       "<style scoped>\n",
       "    .dataframe tbody tr th:only-of-type {\n",
       "        vertical-align: middle;\n",
       "    }\n",
       "\n",
       "    .dataframe tbody tr th {\n",
       "        vertical-align: top;\n",
       "    }\n",
       "\n",
       "    .dataframe thead th {\n",
       "        text-align: right;\n",
       "    }\n",
       "</style>\n",
       "<table border=\"1\" class=\"dataframe\">\n",
       "  <thead>\n",
       "    <tr style=\"text-align: right;\">\n",
       "      <th></th>\n",
       "      <th>Failure_ID</th>\n",
       "      <th>Device_Type</th>\n",
       "      <th>Brand</th>\n",
       "      <th>Model_Name</th>\n",
       "      <th>Usage_Duration</th>\n",
       "      <th>Failure_Type</th>\n",
       "      <th>Warranty_Status</th>\n",
       "      <th>Repair_Cost</th>\n",
       "      <th>Customer_Rating</th>\n",
       "      <th>Comments</th>\n",
       "    </tr>\n",
       "  </thead>\n",
       "  <tbody>\n",
       "    <tr>\n",
       "      <th>9995</th>\n",
       "      <td>FAIL09996</td>\n",
       "      <td>Tablet</td>\n",
       "      <td>Apple</td>\n",
       "      <td>Model-856</td>\n",
       "      <td>NaN</td>\n",
       "      <td>Screen Crack</td>\n",
       "      <td>Yes</td>\n",
       "      <td>NaN</td>\n",
       "      <td>NaN</td>\n",
       "      <td>Perfect repair</td>\n",
       "    </tr>\n",
       "    <tr>\n",
       "      <th>9996</th>\n",
       "      <td>FAIL09997</td>\n",
       "      <td>Smartwatch</td>\n",
       "      <td>HP</td>\n",
       "      <td>Model-166</td>\n",
       "      <td>25.0</td>\n",
       "      <td>Software Crash</td>\n",
       "      <td>No</td>\n",
       "      <td>2022.88</td>\n",
       "      <td>1.2</td>\n",
       "      <td>Not satisfied</td>\n",
       "    </tr>\n",
       "    <tr>\n",
       "      <th>9997</th>\n",
       "      <td>FAIL09998</td>\n",
       "      <td>Smartphone</td>\n",
       "      <td>Apple</td>\n",
       "      <td>Model-379</td>\n",
       "      <td>14.0</td>\n",
       "      <td>Overheating</td>\n",
       "      <td>No</td>\n",
       "      <td>1114.05</td>\n",
       "      <td>1.6</td>\n",
       "      <td>Perfect repair</td>\n",
       "    </tr>\n",
       "    <tr>\n",
       "      <th>9998</th>\n",
       "      <td>FAIL09999</td>\n",
       "      <td>Smartphone</td>\n",
       "      <td>Dell</td>\n",
       "      <td>Model-604</td>\n",
       "      <td>8.0</td>\n",
       "      <td>Screen Crack</td>\n",
       "      <td>No</td>\n",
       "      <td>3975.00</td>\n",
       "      <td>4.8</td>\n",
       "      <td>Had to replace</td>\n",
       "    </tr>\n",
       "    <tr>\n",
       "      <th>9999</th>\n",
       "      <td>FAIL10000</td>\n",
       "      <td>Smartwatch</td>\n",
       "      <td>Lenovo</td>\n",
       "      <td>Model-447</td>\n",
       "      <td>57.0</td>\n",
       "      <td>Overheating</td>\n",
       "      <td>Yes</td>\n",
       "      <td>750.07</td>\n",
       "      <td>4.3</td>\n",
       "      <td>Perfect repair</td>\n",
       "    </tr>\n",
       "  </tbody>\n",
       "</table>\n",
       "</div>"
      ],
      "text/plain": [
       "     Failure_ID Device_Type   Brand Model_Name  Usage_Duration  \\\n",
       "9995  FAIL09996      Tablet   Apple  Model-856             NaN   \n",
       "9996  FAIL09997  Smartwatch      HP  Model-166            25.0   \n",
       "9997  FAIL09998  Smartphone   Apple  Model-379            14.0   \n",
       "9998  FAIL09999  Smartphone    Dell  Model-604             8.0   \n",
       "9999  FAIL10000  Smartwatch  Lenovo  Model-447            57.0   \n",
       "\n",
       "        Failure_Type Warranty_Status  Repair_Cost  Customer_Rating  \\\n",
       "9995    Screen Crack             Yes          NaN              NaN   \n",
       "9996  Software Crash              No      2022.88              1.2   \n",
       "9997     Overheating              No      1114.05              1.6   \n",
       "9998    Screen Crack              No      3975.00              4.8   \n",
       "9999     Overheating             Yes       750.07              4.3   \n",
       "\n",
       "            Comments  \n",
       "9995  Perfect repair  \n",
       "9996   Not satisfied  \n",
       "9997  Perfect repair  \n",
       "9998  Had to replace  \n",
       "9999  Perfect repair  "
      ]
     },
     "execution_count": 117,
     "metadata": {},
     "output_type": "execute_result"
    }
   ],
   "source": [
    "data.tail()"
   ]
  },
  {
   "cell_type": "code",
   "execution_count": 118,
   "id": "75b249a2",
   "metadata": {},
   "outputs": [
    {
     "name": "stdout",
     "output_type": "stream",
     "text": [
      "<class 'pandas.core.frame.DataFrame'>\n",
      "RangeIndex: 10000 entries, 0 to 9999\n",
      "Data columns (total 10 columns):\n",
      " #   Column           Non-Null Count  Dtype  \n",
      "---  ------           --------------  -----  \n",
      " 0   Failure_ID       9500 non-null   object \n",
      " 1   Device_Type      10000 non-null  object \n",
      " 2   Brand            10000 non-null  object \n",
      " 3   Model_Name       10000 non-null  object \n",
      " 4   Usage_Duration   9000 non-null   float64\n",
      " 5   Failure_Type     10000 non-null  object \n",
      " 6   Warranty_Status  10000 non-null  object \n",
      " 7   Repair_Cost      9000 non-null   float64\n",
      " 8   Customer_Rating  9000 non-null   float64\n",
      " 9   Comments         8307 non-null   object \n",
      "dtypes: float64(3), object(7)\n",
      "memory usage: 781.4+ KB\n"
     ]
    }
   ],
   "source": [
    "data.info()"
   ]
  },
  {
   "cell_type": "code",
   "execution_count": 119,
   "id": "55e58e87",
   "metadata": {},
   "outputs": [
    {
     "data": {
      "text/html": [
       "<div>\n",
       "<style scoped>\n",
       "    .dataframe tbody tr th:only-of-type {\n",
       "        vertical-align: middle;\n",
       "    }\n",
       "\n",
       "    .dataframe tbody tr th {\n",
       "        vertical-align: top;\n",
       "    }\n",
       "\n",
       "    .dataframe thead th {\n",
       "        text-align: right;\n",
       "    }\n",
       "</style>\n",
       "<table border=\"1\" class=\"dataframe\">\n",
       "  <thead>\n",
       "    <tr style=\"text-align: right;\">\n",
       "      <th></th>\n",
       "      <th>Failure_ID</th>\n",
       "      <th>Device_Type</th>\n",
       "      <th>Brand</th>\n",
       "      <th>Model_Name</th>\n",
       "      <th>Usage_Duration</th>\n",
       "      <th>Failure_Type</th>\n",
       "      <th>Warranty_Status</th>\n",
       "      <th>Repair_Cost</th>\n",
       "      <th>Customer_Rating</th>\n",
       "      <th>Comments</th>\n",
       "    </tr>\n",
       "  </thead>\n",
       "  <tbody>\n",
       "    <tr>\n",
       "      <th>count</th>\n",
       "      <td>9500</td>\n",
       "      <td>10000</td>\n",
       "      <td>10000</td>\n",
       "      <td>10000</td>\n",
       "      <td>9000.000000</td>\n",
       "      <td>10000</td>\n",
       "      <td>10000</td>\n",
       "      <td>9000.000000</td>\n",
       "      <td>9000.000000</td>\n",
       "      <td>8307</td>\n",
       "    </tr>\n",
       "    <tr>\n",
       "      <th>unique</th>\n",
       "      <td>9500</td>\n",
       "      <td>5</td>\n",
       "      <td>7</td>\n",
       "      <td>899</td>\n",
       "      <td>NaN</td>\n",
       "      <td>5</td>\n",
       "      <td>2</td>\n",
       "      <td>NaN</td>\n",
       "      <td>NaN</td>\n",
       "      <td>5</td>\n",
       "    </tr>\n",
       "    <tr>\n",
       "      <th>top</th>\n",
       "      <td>FAIL00001</td>\n",
       "      <td>Tablet</td>\n",
       "      <td>Apple</td>\n",
       "      <td>Model-173</td>\n",
       "      <td>NaN</td>\n",
       "      <td>Screen Crack</td>\n",
       "      <td>Yes</td>\n",
       "      <td>NaN</td>\n",
       "      <td>NaN</td>\n",
       "      <td>Fixed quickly</td>\n",
       "    </tr>\n",
       "    <tr>\n",
       "      <th>freq</th>\n",
       "      <td>1</td>\n",
       "      <td>2060</td>\n",
       "      <td>1477</td>\n",
       "      <td>21</td>\n",
       "      <td>NaN</td>\n",
       "      <td>2021</td>\n",
       "      <td>5007</td>\n",
       "      <td>NaN</td>\n",
       "      <td>NaN</td>\n",
       "      <td>1721</td>\n",
       "    </tr>\n",
       "    <tr>\n",
       "      <th>mean</th>\n",
       "      <td>NaN</td>\n",
       "      <td>NaN</td>\n",
       "      <td>NaN</td>\n",
       "      <td>NaN</td>\n",
       "      <td>29.651222</td>\n",
       "      <td>NaN</td>\n",
       "      <td>NaN</td>\n",
       "      <td>2559.908880</td>\n",
       "      <td>3.029633</td>\n",
       "      <td>NaN</td>\n",
       "    </tr>\n",
       "    <tr>\n",
       "      <th>std</th>\n",
       "      <td>NaN</td>\n",
       "      <td>NaN</td>\n",
       "      <td>NaN</td>\n",
       "      <td>NaN</td>\n",
       "      <td>17.113799</td>\n",
       "      <td>NaN</td>\n",
       "      <td>NaN</td>\n",
       "      <td>1419.756016</td>\n",
       "      <td>1.155661</td>\n",
       "      <td>NaN</td>\n",
       "    </tr>\n",
       "    <tr>\n",
       "      <th>min</th>\n",
       "      <td>NaN</td>\n",
       "      <td>NaN</td>\n",
       "      <td>NaN</td>\n",
       "      <td>NaN</td>\n",
       "      <td>1.000000</td>\n",
       "      <td>NaN</td>\n",
       "      <td>NaN</td>\n",
       "      <td>100.390000</td>\n",
       "      <td>1.000000</td>\n",
       "      <td>NaN</td>\n",
       "    </tr>\n",
       "    <tr>\n",
       "      <th>25%</th>\n",
       "      <td>NaN</td>\n",
       "      <td>NaN</td>\n",
       "      <td>NaN</td>\n",
       "      <td>NaN</td>\n",
       "      <td>15.000000</td>\n",
       "      <td>NaN</td>\n",
       "      <td>NaN</td>\n",
       "      <td>1341.677500</td>\n",
       "      <td>2.000000</td>\n",
       "      <td>NaN</td>\n",
       "    </tr>\n",
       "    <tr>\n",
       "      <th>50%</th>\n",
       "      <td>NaN</td>\n",
       "      <td>NaN</td>\n",
       "      <td>NaN</td>\n",
       "      <td>NaN</td>\n",
       "      <td>29.000000</td>\n",
       "      <td>NaN</td>\n",
       "      <td>NaN</td>\n",
       "      <td>2555.065000</td>\n",
       "      <td>3.000000</td>\n",
       "      <td>NaN</td>\n",
       "    </tr>\n",
       "    <tr>\n",
       "      <th>75%</th>\n",
       "      <td>NaN</td>\n",
       "      <td>NaN</td>\n",
       "      <td>NaN</td>\n",
       "      <td>NaN</td>\n",
       "      <td>44.000000</td>\n",
       "      <td>NaN</td>\n",
       "      <td>NaN</td>\n",
       "      <td>3788.210000</td>\n",
       "      <td>4.000000</td>\n",
       "      <td>NaN</td>\n",
       "    </tr>\n",
       "    <tr>\n",
       "      <th>max</th>\n",
       "      <td>NaN</td>\n",
       "      <td>NaN</td>\n",
       "      <td>NaN</td>\n",
       "      <td>NaN</td>\n",
       "      <td>59.000000</td>\n",
       "      <td>NaN</td>\n",
       "      <td>NaN</td>\n",
       "      <td>4998.820000</td>\n",
       "      <td>5.000000</td>\n",
       "      <td>NaN</td>\n",
       "    </tr>\n",
       "  </tbody>\n",
       "</table>\n",
       "</div>"
      ],
      "text/plain": [
       "       Failure_ID Device_Type  Brand Model_Name  Usage_Duration  Failure_Type  \\\n",
       "count        9500       10000  10000      10000     9000.000000         10000   \n",
       "unique       9500           5      7        899             NaN             5   \n",
       "top     FAIL00001      Tablet  Apple  Model-173             NaN  Screen Crack   \n",
       "freq            1        2060   1477         21             NaN          2021   \n",
       "mean          NaN         NaN    NaN        NaN       29.651222           NaN   \n",
       "std           NaN         NaN    NaN        NaN       17.113799           NaN   \n",
       "min           NaN         NaN    NaN        NaN        1.000000           NaN   \n",
       "25%           NaN         NaN    NaN        NaN       15.000000           NaN   \n",
       "50%           NaN         NaN    NaN        NaN       29.000000           NaN   \n",
       "75%           NaN         NaN    NaN        NaN       44.000000           NaN   \n",
       "max           NaN         NaN    NaN        NaN       59.000000           NaN   \n",
       "\n",
       "       Warranty_Status  Repair_Cost  Customer_Rating       Comments  \n",
       "count            10000  9000.000000      9000.000000           8307  \n",
       "unique               2          NaN              NaN              5  \n",
       "top                Yes          NaN              NaN  Fixed quickly  \n",
       "freq              5007          NaN              NaN           1721  \n",
       "mean               NaN  2559.908880         3.029633            NaN  \n",
       "std                NaN  1419.756016         1.155661            NaN  \n",
       "min                NaN   100.390000         1.000000            NaN  \n",
       "25%                NaN  1341.677500         2.000000            NaN  \n",
       "50%                NaN  2555.065000         3.000000            NaN  \n",
       "75%                NaN  3788.210000         4.000000            NaN  \n",
       "max                NaN  4998.820000         5.000000            NaN  "
      ]
     },
     "execution_count": 119,
     "metadata": {},
     "output_type": "execute_result"
    }
   ],
   "source": [
    "data.describe(include=\"all\")"
   ]
  },
  {
   "cell_type": "code",
   "execution_count": 120,
   "id": "6fa0bff0",
   "metadata": {},
   "outputs": [
    {
     "data": {
      "text/plain": [
       "(10000, 10)"
      ]
     },
     "execution_count": 120,
     "metadata": {},
     "output_type": "execute_result"
    }
   ],
   "source": [
    "data.shape"
   ]
  },
  {
   "cell_type": "markdown",
   "id": "4159fcb4",
   "metadata": {},
   "source": [
    "### Checking null values"
   ]
  },
  {
   "cell_type": "code",
   "execution_count": 122,
   "id": "91df5fb7",
   "metadata": {},
   "outputs": [
    {
     "data": {
      "text/plain": [
       "Failure_ID          500\n",
       "Device_Type           0\n",
       "Brand                 0\n",
       "Model_Name            0\n",
       "Usage_Duration     1000\n",
       "Failure_Type          0\n",
       "Warranty_Status       0\n",
       "Repair_Cost        1000\n",
       "Customer_Rating    1000\n",
       "Comments           1693\n",
       "dtype: int64"
      ]
     },
     "execution_count": 122,
     "metadata": {},
     "output_type": "execute_result"
    }
   ],
   "source": [
    "data.isnull().sum()"
   ]
  },
  {
   "cell_type": "markdown",
   "id": "759c3809",
   "metadata": {},
   "source": [
    "### Checking Duplicate Rows"
   ]
  },
  {
   "cell_type": "code",
   "execution_count": 123,
   "id": "09153a9f",
   "metadata": {},
   "outputs": [
    {
     "data": {
      "text/plain": [
       "0"
      ]
     },
     "execution_count": 123,
     "metadata": {},
     "output_type": "execute_result"
    }
   ],
   "source": [
    "data.duplicated().sum()"
   ]
  },
  {
   "cell_type": "markdown",
   "id": "879a0abc",
   "metadata": {},
   "source": [
    "## lets clear the null values"
   ]
  },
  {
   "cell_type": "markdown",
   "id": "dc6c2b10",
   "metadata": {},
   "source": [
    "### 1.Failure_ID"
   ]
  },
  {
   "cell_type": "code",
   "execution_count": 124,
   "id": "6d7c5d2e",
   "metadata": {},
   "outputs": [],
   "source": [
    "data.dropna(subset=[\"Failure_ID\"],inplace=True)"
   ]
  },
  {
   "cell_type": "code",
   "execution_count": 125,
   "id": "eb8c9a45",
   "metadata": {},
   "outputs": [
    {
     "data": {
      "text/plain": [
       "(9500, 10)"
      ]
     },
     "execution_count": 125,
     "metadata": {},
     "output_type": "execute_result"
    }
   ],
   "source": [
    "data.shape"
   ]
  },
  {
   "cell_type": "code",
   "execution_count": 126,
   "id": "4bc6c841",
   "metadata": {},
   "outputs": [
    {
     "data": {
      "text/plain": [
       "Failure_ID            0\n",
       "Device_Type           0\n",
       "Brand                 0\n",
       "Model_Name            0\n",
       "Usage_Duration      949\n",
       "Failure_Type          0\n",
       "Warranty_Status       0\n",
       "Repair_Cost         949\n",
       "Customer_Rating     949\n",
       "Comments           1618\n",
       "dtype: int64"
      ]
     },
     "execution_count": 126,
     "metadata": {},
     "output_type": "execute_result"
    }
   ],
   "source": [
    "data.isnull().sum()"
   ]
  },
  {
   "cell_type": "markdown",
   "id": "835f00ec",
   "metadata": {},
   "source": [
    "### 2.Usage Duration"
   ]
  },
  {
   "cell_type": "code",
   "execution_count": 127,
   "id": "3779012e",
   "metadata": {},
   "outputs": [
    {
     "data": {
      "text/plain": [
       "0       47.0\n",
       "1       21.0\n",
       "2       16.0\n",
       "3       11.0\n",
       "4        6.0\n",
       "        ... \n",
       "9995     NaN\n",
       "9996    25.0\n",
       "9997    14.0\n",
       "9998     8.0\n",
       "9999    57.0\n",
       "Name: Usage_Duration, Length: 9500, dtype: float64"
      ]
     },
     "execution_count": 127,
     "metadata": {},
     "output_type": "execute_result"
    }
   ],
   "source": [
    "data[\"Usage_Duration\"]"
   ]
  },
  {
   "cell_type": "code",
   "execution_count": 128,
   "id": "37e05fe2",
   "metadata": {},
   "outputs": [
    {
     "data": {
      "text/plain": [
       "30.0"
      ]
     },
     "execution_count": 128,
     "metadata": {},
     "output_type": "execute_result"
    }
   ],
   "source": [
    "#fill the null values using mean\n",
    "mean=data[\"Usage_Duration\"].mean().round()\n",
    "mean"
   ]
  },
  {
   "cell_type": "code",
   "execution_count": 129,
   "id": "35519f3e",
   "metadata": {},
   "outputs": [],
   "source": [
    "data[\"Usage_Duration\"].fillna(mean,inplace=True)"
   ]
  },
  {
   "cell_type": "code",
   "execution_count": 130,
   "id": "7726a8c2",
   "metadata": {},
   "outputs": [
    {
     "data": {
      "text/plain": [
       "0"
      ]
     },
     "execution_count": 130,
     "metadata": {},
     "output_type": "execute_result"
    }
   ],
   "source": [
    "data[\"Usage_Duration\"].isnull().sum()"
   ]
  },
  {
   "cell_type": "markdown",
   "id": "90cfbc61",
   "metadata": {},
   "source": [
    "### 3.Repair Cost"
   ]
  },
  {
   "cell_type": "code",
   "execution_count": 131,
   "id": "af998138",
   "metadata": {},
   "outputs": [
    {
     "data": {
      "text/plain": [
       "0       1638.42\n",
       "1       3137.30\n",
       "2       4252.81\n",
       "3       3115.47\n",
       "4        939.52\n",
       "         ...   \n",
       "9995        NaN\n",
       "9996    2022.88\n",
       "9997    1114.05\n",
       "9998    3975.00\n",
       "9999     750.07\n",
       "Name: Repair_Cost, Length: 9500, dtype: float64"
      ]
     },
     "execution_count": 131,
     "metadata": {},
     "output_type": "execute_result"
    }
   ],
   "source": [
    "data[\"Repair_Cost\"]"
   ]
  },
  {
   "cell_type": "code",
   "execution_count": 132,
   "id": "db1acdce",
   "metadata": {},
   "outputs": [
    {
     "data": {
      "text/plain": [
       "2556.98"
      ]
     },
     "execution_count": 132,
     "metadata": {},
     "output_type": "execute_result"
    }
   ],
   "source": [
    "#lets fill the nan values using median\n",
    "median=data[\"Repair_Cost\"].median()\n",
    "median"
   ]
  },
  {
   "cell_type": "code",
   "execution_count": 133,
   "id": "eec72ed9",
   "metadata": {},
   "outputs": [],
   "source": [
    "data[\"Repair_Cost\"].fillna(median,inplace=True)"
   ]
  },
  {
   "cell_type": "code",
   "execution_count": 134,
   "id": "161d1f47",
   "metadata": {},
   "outputs": [
    {
     "data": {
      "text/plain": [
       "0"
      ]
     },
     "execution_count": 134,
     "metadata": {},
     "output_type": "execute_result"
    }
   ],
   "source": [
    "data[\"Repair_Cost\"].isna().sum()"
   ]
  },
  {
   "cell_type": "markdown",
   "id": "e8ad234c",
   "metadata": {},
   "source": [
    "### 4.Customer Ratings"
   ]
  },
  {
   "cell_type": "code",
   "execution_count": 135,
   "id": "e6f9cc76",
   "metadata": {},
   "outputs": [
    {
     "data": {
      "text/plain": [
       "0       1.2\n",
       "1       2.6\n",
       "2       1.1\n",
       "3       2.4\n",
       "4       4.1\n",
       "       ... \n",
       "9995    NaN\n",
       "9996    1.2\n",
       "9997    1.6\n",
       "9998    4.8\n",
       "9999    4.3\n",
       "Name: Customer_Rating, Length: 9500, dtype: float64"
      ]
     },
     "execution_count": 135,
     "metadata": {},
     "output_type": "execute_result"
    }
   ],
   "source": [
    "data[\"Customer_Rating\"]"
   ]
  },
  {
   "cell_type": "code",
   "execution_count": 136,
   "id": "7df68dc6",
   "metadata": {},
   "outputs": [],
   "source": [
    "#lets fill the nan values using ffill\n",
    "data[\"Customer_Rating\"].ffill(inplace=True)"
   ]
  },
  {
   "cell_type": "code",
   "execution_count": 137,
   "id": "645851b2",
   "metadata": {},
   "outputs": [
    {
     "data": {
      "text/plain": [
       "0"
      ]
     },
     "execution_count": 137,
     "metadata": {},
     "output_type": "execute_result"
    }
   ],
   "source": [
    "data[\"Customer_Rating\"].isnull().sum()"
   ]
  },
  {
   "cell_type": "markdown",
   "id": "5f04bb63",
   "metadata": {},
   "source": [
    "### 5.Comments"
   ]
  },
  {
   "cell_type": "code",
   "execution_count": 138,
   "id": "827729b9",
   "metadata": {},
   "outputs": [
    {
     "data": {
      "text/plain": [
       "0       Perfect repair\n",
       "1        Fixed quickly\n",
       "2                  NaN\n",
       "3        Fixed quickly\n",
       "4        Not satisfied\n",
       "             ...      \n",
       "9995    Perfect repair\n",
       "9996     Not satisfied\n",
       "9997    Perfect repair\n",
       "9998    Had to replace\n",
       "9999    Perfect repair\n",
       "Name: Comments, Length: 9500, dtype: object"
      ]
     },
     "execution_count": 138,
     "metadata": {},
     "output_type": "execute_result"
    }
   ],
   "source": [
    "data[\"Comments\"]"
   ]
  },
  {
   "cell_type": "code",
   "execution_count": 109,
   "id": "ec5f787f",
   "metadata": {},
   "outputs": [],
   "source": [
    "#lets fix null values using bfill"
   ]
  },
  {
   "cell_type": "code",
   "execution_count": 139,
   "id": "baf97c12",
   "metadata": {},
   "outputs": [],
   "source": [
    "data[\"Comments\"].bfill(inplace=True)"
   ]
  },
  {
   "cell_type": "code",
   "execution_count": 140,
   "id": "6872277b",
   "metadata": {},
   "outputs": [
    {
     "data": {
      "text/plain": [
       "0"
      ]
     },
     "execution_count": 140,
     "metadata": {},
     "output_type": "execute_result"
    }
   ],
   "source": [
    "data[\"Comments\"].isnull().sum()"
   ]
  },
  {
   "cell_type": "markdown",
   "id": "f21ab516",
   "metadata": {},
   "source": [
    "## checking null values after filling it"
   ]
  },
  {
   "cell_type": "code",
   "execution_count": 141,
   "id": "e5b68e7f",
   "metadata": {},
   "outputs": [
    {
     "data": {
      "text/plain": [
       "Failure_ID         0\n",
       "Device_Type        0\n",
       "Brand              0\n",
       "Model_Name         0\n",
       "Usage_Duration     0\n",
       "Failure_Type       0\n",
       "Warranty_Status    0\n",
       "Repair_Cost        0\n",
       "Customer_Rating    0\n",
       "Comments           0\n",
       "dtype: int64"
      ]
     },
     "execution_count": 141,
     "metadata": {},
     "output_type": "execute_result"
    }
   ],
   "source": [
    "data.isnull().sum()"
   ]
  },
  {
   "cell_type": "code",
   "execution_count": 142,
   "id": "1a6ee040",
   "metadata": {},
   "outputs": [],
   "source": [
    "data.to_csv(\"cleaned_tech.csv\")"
   ]
  },
  {
   "cell_type": "markdown",
   "id": "842f1353",
   "metadata": {},
   "source": [
    "## Loading new Cleaned Dataset for further analysis "
   ]
  },
  {
   "cell_type": "code",
   "execution_count": 194,
   "id": "28697987",
   "metadata": {},
   "outputs": [],
   "source": [
    "data=pd.read_csv(\"cleaned_tech.csv\")"
   ]
  },
  {
   "cell_type": "code",
   "execution_count": 196,
   "id": "c623eb3e",
   "metadata": {},
   "outputs": [
    {
     "data": {
      "text/html": [
       "<div>\n",
       "<style scoped>\n",
       "    .dataframe tbody tr th:only-of-type {\n",
       "        vertical-align: middle;\n",
       "    }\n",
       "\n",
       "    .dataframe tbody tr th {\n",
       "        vertical-align: top;\n",
       "    }\n",
       "\n",
       "    .dataframe thead th {\n",
       "        text-align: right;\n",
       "    }\n",
       "</style>\n",
       "<table border=\"1\" class=\"dataframe\">\n",
       "  <thead>\n",
       "    <tr style=\"text-align: right;\">\n",
       "      <th></th>\n",
       "      <th>Unnamed: 0</th>\n",
       "      <th>Failure_ID</th>\n",
       "      <th>Device_Type</th>\n",
       "      <th>Brand</th>\n",
       "      <th>Model_Name</th>\n",
       "      <th>Usage_Duration</th>\n",
       "      <th>Failure_Type</th>\n",
       "      <th>Warranty_Status</th>\n",
       "      <th>Repair_Cost</th>\n",
       "      <th>Customer_Rating</th>\n",
       "      <th>Comments</th>\n",
       "    </tr>\n",
       "  </thead>\n",
       "  <tbody>\n",
       "    <tr>\n",
       "      <th>0</th>\n",
       "      <td>0</td>\n",
       "      <td>FAIL00001</td>\n",
       "      <td>Smartwatch</td>\n",
       "      <td>Dell</td>\n",
       "      <td>Model-637</td>\n",
       "      <td>47.0</td>\n",
       "      <td>Battery Issue</td>\n",
       "      <td>No</td>\n",
       "      <td>1638.42</td>\n",
       "      <td>1.2</td>\n",
       "      <td>Perfect repair</td>\n",
       "    </tr>\n",
       "  </tbody>\n",
       "</table>\n",
       "</div>"
      ],
      "text/plain": [
       "   Unnamed: 0 Failure_ID Device_Type Brand Model_Name  Usage_Duration  \\\n",
       "0           0  FAIL00001  Smartwatch  Dell  Model-637            47.0   \n",
       "\n",
       "    Failure_Type Warranty_Status  Repair_Cost  Customer_Rating        Comments  \n",
       "0  Battery Issue              No      1638.42              1.2  Perfect repair  "
      ]
     },
     "execution_count": 196,
     "metadata": {},
     "output_type": "execute_result"
    }
   ],
   "source": [
    "data.head(1)"
   ]
  },
  {
   "cell_type": "markdown",
   "id": "c1dd3190",
   "metadata": {},
   "source": [
    "### lets drop Unnamed: 0 from the dataset"
   ]
  },
  {
   "cell_type": "code",
   "execution_count": 197,
   "id": "c74903fe",
   "metadata": {},
   "outputs": [],
   "source": [
    "data.drop(\"Unnamed: 0\",axis=1,inplace=True)"
   ]
  },
  {
   "cell_type": "code",
   "execution_count": 424,
   "id": "e922830b",
   "metadata": {},
   "outputs": [
    {
     "data": {
      "text/html": [
       "<div>\n",
       "<style scoped>\n",
       "    .dataframe tbody tr th:only-of-type {\n",
       "        vertical-align: middle;\n",
       "    }\n",
       "\n",
       "    .dataframe tbody tr th {\n",
       "        vertical-align: top;\n",
       "    }\n",
       "\n",
       "    .dataframe thead th {\n",
       "        text-align: right;\n",
       "    }\n",
       "</style>\n",
       "<table border=\"1\" class=\"dataframe\">\n",
       "  <thead>\n",
       "    <tr style=\"text-align: right;\">\n",
       "      <th></th>\n",
       "      <th>Failure_ID</th>\n",
       "      <th>Device_Type</th>\n",
       "      <th>Brand</th>\n",
       "      <th>Model_Name</th>\n",
       "      <th>Usage_Duration</th>\n",
       "      <th>Failure_Type</th>\n",
       "      <th>Warranty_Status</th>\n",
       "      <th>Repair_Cost</th>\n",
       "      <th>Customer_Rating</th>\n",
       "      <th>Comments</th>\n",
       "    </tr>\n",
       "  </thead>\n",
       "  <tbody>\n",
       "    <tr>\n",
       "      <th>0</th>\n",
       "      <td>FAIL00001</td>\n",
       "      <td>Smartwatch</td>\n",
       "      <td>Dell</td>\n",
       "      <td>Model-637</td>\n",
       "      <td>47.0</td>\n",
       "      <td>Battery Issue</td>\n",
       "      <td>No</td>\n",
       "      <td>1638.42</td>\n",
       "      <td>1.2</td>\n",
       "      <td>Perfect repair</td>\n",
       "    </tr>\n",
       "  </tbody>\n",
       "</table>\n",
       "</div>"
      ],
      "text/plain": [
       "  Failure_ID Device_Type Brand Model_Name  Usage_Duration   Failure_Type  \\\n",
       "0  FAIL00001  Smartwatch  Dell  Model-637            47.0  Battery Issue   \n",
       "\n",
       "  Warranty_Status  Repair_Cost  Customer_Rating        Comments  \n",
       "0              No      1638.42              1.2  Perfect repair  "
      ]
     },
     "execution_count": 424,
     "metadata": {},
     "output_type": "execute_result"
    }
   ],
   "source": [
    "data.head(1)"
   ]
  },
  {
   "cell_type": "markdown",
   "id": "565dac8d",
   "metadata": {},
   "source": [
    "# Basic Understanding"
   ]
  },
  {
   "cell_type": "markdown",
   "id": "c26619c6",
   "metadata": {},
   "source": [
    "## 1.How many missing values are present in each column?"
   ]
  },
  {
   "cell_type": "markdown",
   "id": "f88af370",
   "metadata": {},
   "source": [
    "Failure_ID          500\n",
    "Device_Type           0\n",
    "Brand                 0\n",
    "Model_Name            0\n",
    "Usage_Duration     1000\n",
    "Failure_Type          0\n",
    "Warranty_Status       0\n",
    "Repair_Cost        1000\n",
    "Customer_Rating    1000\n",
    "Comments           1693"
   ]
  },
  {
   "cell_type": "markdown",
   "id": "75f8ed46",
   "metadata": {},
   "source": [
    "## 2.What are the top 5 most frequently reported Failure_Type values?"
   ]
  },
  {
   "cell_type": "code",
   "execution_count": 199,
   "id": "b8c8b01a",
   "metadata": {},
   "outputs": [
    {
     "data": {
      "text/plain": [
       "Failure_Type\n",
       "Overheating            1916\n",
       "Screen Crack           1912\n",
       "Speaker Malfunction    1911\n",
       "Software Crash         1890\n",
       "Battery Issue          1871\n",
       "Name: count, dtype: int64"
      ]
     },
     "execution_count": 199,
     "metadata": {},
     "output_type": "execute_result"
    }
   ],
   "source": [
    "data[\"Failure_Type\"].value_counts().sort_values(ascending=False)"
   ]
  },
  {
   "cell_type": "markdown",
   "id": "4080ac5d",
   "metadata": {},
   "source": [
    "## 3.What is the distribution of Device_Type in the dataset?"
   ]
  },
  {
   "cell_type": "code",
   "execution_count": 490,
   "id": "c71958dd",
   "metadata": {},
   "outputs": [
    {
     "data": {
      "image/png": "[encoded data removed]",
      "text/plain": [
       "<Figure size 800x500 with 1 Axes>"
      ]
     },
     "metadata": {},
     "output_type": "display_data"
    }
   ],
   "source": [
    "plt.figure(figsize=(8,5))\n",
    "plt.hist(data[\"Device_Type\"],color=\"green\")\n",
    "plt.xlabel(\"Device Type\")\n",
    "plt.ylabel(\"Count\")\n",
    "plt.title(\"Distribution Of Device Type\")\n",
    "plt.show()"
   ]
  },
  {
   "cell_type": "markdown",
   "id": "fddec198",
   "metadata": {},
   "source": [
    "## 4.Which Brand has the highest number of reported failures?"
   ]
  },
  {
   "cell_type": "code",
   "execution_count": 201,
   "id": "33c5d8cc",
   "metadata": {},
   "outputs": [
    {
     "data": {
      "text/plain": [
       "Brand\n",
       "Apple      1401\n",
       "OnePlus    1394\n",
       "Sony       1362\n",
       "Dell       1360\n",
       "Lenovo     1348\n",
       "Samsung    1336\n",
       "HP         1299\n",
       "Name: Failure_ID, dtype: int64"
      ]
     },
     "execution_count": 201,
     "metadata": {},
     "output_type": "execute_result"
    }
   ],
   "source": [
    "data.groupby(\"Brand\")[\"Failure_ID\"].count().sort_values(ascending=False)"
   ]
  },
  {
   "cell_type": "code",
   "execution_count": 511,
   "id": "a202e09f",
   "metadata": {},
   "outputs": [
    {
     "data": {
      "text/plain": [
       "<Axes: xlabel='Brand'>"
      ]
     },
     "execution_count": 511,
     "metadata": {},
     "output_type": "execute_result"
    },
    {
     "data": {
      "image/png": "[encoded data removed]",
      "text/plain": [
       "<Figure size 640x480 with 1 Axes>"
      ]
     },
     "metadata": {},
     "output_type": "display_data"
    }
   ],
   "source": [
    "data.groupby(\"Brand\")[\"Failure_ID\"].count().sort_values(ascending=False).plot(kind=\"bar\",color=\"red\")"
   ]
  },
  {
   "cell_type": "markdown",
   "id": "fd6a09fb",
   "metadata": {},
   "source": [
    "## 5.What percentage of failures occurred while the device was under warranty?"
   ]
  },
  {
   "cell_type": "code",
   "execution_count": 226,
   "id": "ba2b8548",
   "metadata": {},
   "outputs": [
    {
     "data": {
      "text/plain": [
       "9500"
      ]
     },
     "execution_count": 226,
     "metadata": {},
     "output_type": "execute_result"
    }
   ],
   "source": [
    "total_failures=data[\"Failure_ID\"].count()\n",
    "total_failures"
   ]
  },
  {
   "cell_type": "code",
   "execution_count": 227,
   "id": "71f7ec1d",
   "metadata": {},
   "outputs": [
    {
     "data": {
      "text/plain": [
       "4753"
      ]
     },
     "execution_count": 227,
     "metadata": {},
     "output_type": "execute_result"
    }
   ],
   "source": [
    "failures_under_warranty = data[data['Warranty_Status'] == 'Yes'].shape[0]\n",
    "failures_under_warranty"
   ]
  },
  {
   "cell_type": "code",
   "execution_count": 220,
   "id": "896842f4",
   "metadata": {},
   "outputs": [
    {
     "data": {
      "text/plain": [
       "50.031578947368416"
      ]
     },
     "execution_count": 220,
     "metadata": {},
     "output_type": "execute_result"
    }
   ],
   "source": [
    "percentage_under_warranty = (failures_under_warranty / total_failures) * 100\n",
    "percentage_under_warranty"
   ]
  },
  {
   "cell_type": "code",
   "execution_count": 425,
   "id": "a6358bd7",
   "metadata": {},
   "outputs": [
    {
     "name": "stdout",
     "output_type": "stream",
     "text": [
      "Percentage of failures occured while the device was under warranty : 50.03%\n"
     ]
    }
   ],
   "source": [
    "print(f\"Percentage of failures occured while the device was under warranty : {percentage_under_warranty :.2f}%\")"
   ]
  },
  {
   "cell_type": "markdown",
   "id": "01adfaa3",
   "metadata": {},
   "source": [
    "# Numerical Analysis"
   ]
  },
  {
   "cell_type": "markdown",
   "id": "79a9f238",
   "metadata": {},
   "source": [
    "## 6.What is the average Usage_Duration before a device fails"
   ]
  },
  {
   "cell_type": "code",
   "execution_count": 429,
   "id": "3b2e6497",
   "metadata": {},
   "outputs": [
    {
     "name": "stdout",
     "output_type": "stream",
     "text": [
      "Average Usage Duration before failure: 29.71 Months\n"
     ]
    }
   ],
   "source": [
    "average_usage_before_failure = data[\"Usage_Duration\"].mean()\n",
    "\n",
    "print(f\"Average Usage Duration before failure: {average_usage_before_failure:.2f} Months\")"
   ]
  },
  {
   "cell_type": "markdown",
   "id": "2e083768",
   "metadata": {},
   "source": [
    "## 7.What is the distribution of Repair_Cost across different Device_Type values"
   ]
  },
  {
   "cell_type": "code",
   "execution_count": 238,
   "id": "9b5b8286",
   "metadata": {},
   "outputs": [
    {
     "data": {
      "text/plain": [
       "Device_Type\n",
       "Tablet            5044378.05\n",
       "Gaming Console    4924495.75\n",
       "Laptop            4871749.97\n",
       "Smartwatch        4767509.51\n",
       "Smartphone        4724830.47\n",
       "Name: Repair_Cost, dtype: float64"
      ]
     },
     "execution_count": 238,
     "metadata": {},
     "output_type": "execute_result"
    }
   ],
   "source": [
    "data.groupby(\"Device_Type\")[\"Repair_Cost\"].sum().sort_values(ascending=False)"
   ]
  },
  {
   "cell_type": "code",
   "execution_count": 506,
   "id": "78116884",
   "metadata": {},
   "outputs": [
    {
     "data": {
      "image/png": "[encoded data removed]",
      "text/plain": [
       "<Figure size 640x480 with 1 Axes>"
      ]
     },
     "metadata": {},
     "output_type": "display_data"
    }
   ],
   "source": [
    "data.groupby(\"Device_Type\")[\"Repair_Cost\"].sum().sort_values(ascending=False).plot(kind=\"bar\",color=\"skyblue\",edgecolor=\"black\")\n",
    "plt.title(\" distribution of Repair Cost across different Device Type\")\n",
    "plt.xlabel(\"Device Type\")\n",
    "plt.ylabel(\"Repair Cost\")\n",
    "plt.xticks(rotation=360)\n",
    "plt.grid(axis=\"y\",linestyle=\"--\",alpha=0.7)\n",
    "plt.show()"
   ]
  },
  {
   "cell_type": "markdown",
   "id": "ae1b193e",
   "metadata": {},
   "source": [
    "## 8.Which Brand has the highest average Repair_Cost?"
   ]
  },
  {
   "cell_type": "code",
   "execution_count": 264,
   "id": "e3f24458",
   "metadata": {},
   "outputs": [
    {
     "data": {
      "text/plain": [
       "Brand\n",
       "Dell    2598.587493\n",
       "Name: Repair_Cost, dtype: float64"
      ]
     },
     "execution_count": 264,
     "metadata": {},
     "output_type": "execute_result"
    }
   ],
   "source": [
    "data.groupby(\"Brand\")[\"Repair_Cost\"].mean().sort_values(ascending=False)[:1]"
   ]
  },
  {
   "cell_type": "markdown",
   "id": "764e6807",
   "metadata": {},
   "source": [
    "## 9.Are there any outliers in the Repair_Cost column?"
   ]
  },
  {
   "cell_type": "code",
   "execution_count": 268,
   "id": "134b83ad",
   "metadata": {},
   "outputs": [
    {
     "data": {
      "text/plain": [
       "<Axes: ylabel='Repair_Cost'>"
      ]
     },
     "execution_count": 268,
     "metadata": {},
     "output_type": "execute_result"
    },
    {
     "data": {
      "image/png": "[encoded data removed]",
      "text/plain": [
       "<Figure size 640x480 with 1 Axes>"
      ]
     },
     "metadata": {},
     "output_type": "display_data"
    }
   ],
   "source": [
    "sns.boxplot(data[\"Repair_Cost\"]) #no outliers"
   ]
  },
  {
   "cell_type": "markdown",
   "id": "8a197a92",
   "metadata": {},
   "source": [
    "## 10.What is the relationship between Usage_Duration and Repair_Cost?"
   ]
  },
  {
   "cell_type": "code",
   "execution_count": 288,
   "id": "4f2bb47a",
   "metadata": {},
   "outputs": [
    {
     "name": "stdout",
     "output_type": "stream",
     "text": [
      "7.411127475561897e-05\n"
     ]
    }
   ],
   "source": [
    "correlation=data[\"Usage_Duration\"].corr(data[\"Repair_Cost\"])\n",
    "print(correlation)"
   ]
  },
  {
   "cell_type": "raw",
   "id": "1671cbc1",
   "metadata": {},
   "source": [
    "#since it is in positive(7.41)\n",
    "→ Strong positive relationship (longer usage → higher repair cost)."
   ]
  },
  {
   "cell_type": "code",
   "execution_count": 430,
   "id": "7b8754ac",
   "metadata": {},
   "outputs": [
    {
     "data": {
      "text/plain": [
       "Usage_Duration\n",
       "30.0    2779959.03\n",
       "22.0     459235.21\n",
       "15.0     446659.09\n",
       "11.0     443439.03\n",
       "55.0     418199.01\n",
       "21.0     417144.51\n",
       "17.0     414333.35\n",
       "32.0     411874.28\n",
       "5.0      408982.91\n",
       "58.0     408885.85\n",
       "Name: Repair_Cost, dtype: float64"
      ]
     },
     "execution_count": 430,
     "metadata": {},
     "output_type": "execute_result"
    }
   ],
   "source": [
    "data.groupby(\"Usage_Duration\")[\"Repair_Cost\"].sum().sort_values(ascending=False).head(10)"
   ]
  },
  {
   "cell_type": "markdown",
   "id": "f077e062",
   "metadata": {},
   "source": [
    "# Categorical Analysis"
   ]
  },
  {
   "cell_type": "markdown",
   "id": "aa018cc2",
   "metadata": {},
   "source": [
    "## 11.Which Device_Type has the highest failure count?"
   ]
  },
  {
   "cell_type": "code",
   "execution_count": 304,
   "id": "85f48832",
   "metadata": {},
   "outputs": [
    {
     "data": {
      "text/plain": [
       "Device_Type\n",
       "Tablet    1949\n",
       "Name: Failure_ID, dtype: int64"
      ]
     },
     "execution_count": 304,
     "metadata": {},
     "output_type": "execute_result"
    }
   ],
   "source": [
    "data.groupby(\"Device_Type\")[\"Failure_ID\"].count().sort_values(ascending=False).head(1)"
   ]
  },
  {
   "cell_type": "markdown",
   "id": "c15dea53",
   "metadata": {},
   "source": [
    "## 12.What are the most common failure types for each Device_Type?\n"
   ]
  },
  {
   "cell_type": "code",
   "execution_count": 315,
   "id": "c1b8c360",
   "metadata": {},
   "outputs": [
    {
     "data": {
      "text/plain": [
       "Device_Type     Failure_Type       \n",
       "Gaming Console  Battery Issue          376\n",
       "                Overheating            417\n",
       "                Screen Crack           362\n",
       "                Software Crash         382\n",
       "                Speaker Malfunction    394\n",
       "Laptop          Battery Issue          375\n",
       "                Overheating            354\n",
       "                Screen Crack           390\n",
       "                Software Crash         421\n",
       "                Speaker Malfunction    367\n",
       "Smartphone      Battery Issue          401\n",
       "                Overheating            354\n",
       "                Screen Crack           361\n",
       "                Software Crash         369\n",
       "                Speaker Malfunction    378\n",
       "Smartwatch      Battery Issue          359\n",
       "                Overheating            387\n",
       "                Screen Crack           353\n",
       "                Software Crash         356\n",
       "                Speaker Malfunction    395\n",
       "Tablet          Battery Issue          360\n",
       "                Overheating            404\n",
       "                Screen Crack           446\n",
       "                Software Crash         362\n",
       "                Speaker Malfunction    377\n",
       "Name: Failure_ID, dtype: int64"
      ]
     },
     "execution_count": 315,
     "metadata": {},
     "output_type": "execute_result"
    }
   ],
   "source": [
    "data.groupby([\"Device_Type\",\"Failure_Type\"])[\"Failure_ID\"].count()"
   ]
  },
  {
   "cell_type": "code",
   "execution_count": 495,
   "id": "a572fb30",
   "metadata": {},
   "outputs": [
    {
     "data": {
      "text/html": [
       "<div>\n",
       "<style scoped>\n",
       "    .dataframe tbody tr th:only-of-type {\n",
       "        vertical-align: middle;\n",
       "    }\n",
       "\n",
       "    .dataframe tbody tr th {\n",
       "        vertical-align: top;\n",
       "    }\n",
       "\n",
       "    .dataframe thead th {\n",
       "        text-align: right;\n",
       "    }\n",
       "</style>\n",
       "<table border=\"1\" class=\"dataframe\">\n",
       "  <thead>\n",
       "    <tr style=\"text-align: right;\">\n",
       "      <th></th>\n",
       "      <th>Device_Type</th>\n",
       "      <th>Failure_Type</th>\n",
       "      <th>Failure_ID</th>\n",
       "    </tr>\n",
       "  </thead>\n",
       "  <tbody>\n",
       "    <tr>\n",
       "      <th>1</th>\n",
       "      <td>Gaming Console</td>\n",
       "      <td>Overheating</td>\n",
       "      <td>417</td>\n",
       "    </tr>\n",
       "    <tr>\n",
       "      <th>8</th>\n",
       "      <td>Laptop</td>\n",
       "      <td>Software Crash</td>\n",
       "      <td>421</td>\n",
       "    </tr>\n",
       "    <tr>\n",
       "      <th>10</th>\n",
       "      <td>Smartphone</td>\n",
       "      <td>Battery Issue</td>\n",
       "      <td>401</td>\n",
       "    </tr>\n",
       "    <tr>\n",
       "      <th>19</th>\n",
       "      <td>Smartwatch</td>\n",
       "      <td>Speaker Malfunction</td>\n",
       "      <td>395</td>\n",
       "    </tr>\n",
       "    <tr>\n",
       "      <th>22</th>\n",
       "      <td>Tablet</td>\n",
       "      <td>Screen Crack</td>\n",
       "      <td>446</td>\n",
       "    </tr>\n",
       "  </tbody>\n",
       "</table>\n",
       "</div>"
      ],
      "text/plain": [
       "       Device_Type         Failure_Type  Failure_ID\n",
       "1   Gaming Console          Overheating         417\n",
       "8           Laptop       Software Crash         421\n",
       "10      Smartphone        Battery Issue         401\n",
       "19      Smartwatch  Speaker Malfunction         395\n",
       "22          Tablet         Screen Crack         446"
      ]
     },
     "execution_count": 495,
     "metadata": {},
     "output_type": "execute_result"
    }
   ],
   "source": [
    "data.groupby([\"Device_Type\", \"Failure_Type\"])[\"Failure_ID\"].count().reset_index().sort_values([\"Device_Type\", \"Failure_ID\"], ascending=[True,False]).groupby(\"Device_Type\").head(1)\n"
   ]
  },
  {
   "cell_type": "markdown",
   "id": "2c12efb0",
   "metadata": {},
   "source": [
    "## 13.What is the most frequent Failure_Type for devices under warranty?"
   ]
  },
  {
   "cell_type": "code",
   "execution_count": 347,
   "id": "95a4b981",
   "metadata": {},
   "outputs": [
    {
     "data": {
      "text/plain": [
       "Failure_Type         Warranty_Status\n",
       "Battery Issue        No                 935\n",
       "                     Yes                936\n",
       "Overheating          No                 923\n",
       "                     Yes                993\n",
       "Screen Crack         No                 945\n",
       "                     Yes                967\n",
       "Software Crash       No                 972\n",
       "                     Yes                918\n",
       "Speaker Malfunction  No                 972\n",
       "                     Yes                939\n",
       "Name: Failure_ID, dtype: int64"
      ]
     },
     "execution_count": 347,
     "metadata": {},
     "output_type": "execute_result"
    }
   ],
   "source": [
    "data.groupby([\"Failure_Type\",\"Warranty_Status\"])[\"Failure_ID\"].count()"
   ]
  },
  {
   "cell_type": "code",
   "execution_count": 360,
   "id": "28389a5d",
   "metadata": {},
   "outputs": [
    {
     "data": {
      "text/html": [
       "<div>\n",
       "<style scoped>\n",
       "    .dataframe tbody tr th:only-of-type {\n",
       "        vertical-align: middle;\n",
       "    }\n",
       "\n",
       "    .dataframe tbody tr th {\n",
       "        vertical-align: top;\n",
       "    }\n",
       "\n",
       "    .dataframe thead th {\n",
       "        text-align: right;\n",
       "    }\n",
       "</style>\n",
       "<table border=\"1\" class=\"dataframe\">\n",
       "  <thead>\n",
       "    <tr style=\"text-align: right;\">\n",
       "      <th></th>\n",
       "      <th>Failure_ID</th>\n",
       "      <th>Device_Type</th>\n",
       "      <th>Brand</th>\n",
       "      <th>Model_Name</th>\n",
       "      <th>Usage_Duration</th>\n",
       "      <th>Failure_Type</th>\n",
       "      <th>Warranty_Status</th>\n",
       "      <th>Repair_Cost</th>\n",
       "      <th>Customer_Rating</th>\n",
       "      <th>Comments</th>\n",
       "    </tr>\n",
       "  </thead>\n",
       "  <tbody>\n",
       "    <tr>\n",
       "      <th>1</th>\n",
       "      <td>FAIL00002</td>\n",
       "      <td>Gaming Console</td>\n",
       "      <td>OnePlus</td>\n",
       "      <td>Model-873</td>\n",
       "      <td>21.0</td>\n",
       "      <td>Overheating</td>\n",
       "      <td>Yes</td>\n",
       "      <td>3137.30</td>\n",
       "      <td>2.6</td>\n",
       "      <td>Fixed quickly</td>\n",
       "    </tr>\n",
       "    <tr>\n",
       "      <th>4</th>\n",
       "      <td>FAIL00005</td>\n",
       "      <td>Gaming Console</td>\n",
       "      <td>OnePlus</td>\n",
       "      <td>Model-538</td>\n",
       "      <td>6.0</td>\n",
       "      <td>Software Crash</td>\n",
       "      <td>Yes</td>\n",
       "      <td>939.52</td>\n",
       "      <td>4.1</td>\n",
       "      <td>Not satisfied</td>\n",
       "    </tr>\n",
       "    <tr>\n",
       "      <th>6</th>\n",
       "      <td>FAIL00007</td>\n",
       "      <td>Laptop</td>\n",
       "      <td>OnePlus</td>\n",
       "      <td>Model-274</td>\n",
       "      <td>19.0</td>\n",
       "      <td>Speaker Malfunction</td>\n",
       "      <td>Yes</td>\n",
       "      <td>1340.16</td>\n",
       "      <td>2.5</td>\n",
       "      <td>Very bad service</td>\n",
       "    </tr>\n",
       "    <tr>\n",
       "      <th>9</th>\n",
       "      <td>FAIL00012</td>\n",
       "      <td>Gaming Console</td>\n",
       "      <td>Lenovo</td>\n",
       "      <td>Model-844</td>\n",
       "      <td>10.0</td>\n",
       "      <td>Overheating</td>\n",
       "      <td>Yes</td>\n",
       "      <td>1970.02</td>\n",
       "      <td>3.5</td>\n",
       "      <td>Very bad service</td>\n",
       "    </tr>\n",
       "    <tr>\n",
       "      <th>10</th>\n",
       "      <td>FAIL00013</td>\n",
       "      <td>Laptop</td>\n",
       "      <td>Dell</td>\n",
       "      <td>Model-637</td>\n",
       "      <td>55.0</td>\n",
       "      <td>Speaker Malfunction</td>\n",
       "      <td>Yes</td>\n",
       "      <td>1789.92</td>\n",
       "      <td>2.8</td>\n",
       "      <td>Not satisfied</td>\n",
       "    </tr>\n",
       "    <tr>\n",
       "      <th>...</th>\n",
       "      <td>...</td>\n",
       "      <td>...</td>\n",
       "      <td>...</td>\n",
       "      <td>...</td>\n",
       "      <td>...</td>\n",
       "      <td>...</td>\n",
       "      <td>...</td>\n",
       "      <td>...</td>\n",
       "      <td>...</td>\n",
       "      <td>...</td>\n",
       "    </tr>\n",
       "    <tr>\n",
       "      <th>9491</th>\n",
       "      <td>FAIL09992</td>\n",
       "      <td>Tablet</td>\n",
       "      <td>Sony</td>\n",
       "      <td>Model-633</td>\n",
       "      <td>17.0</td>\n",
       "      <td>Speaker Malfunction</td>\n",
       "      <td>Yes</td>\n",
       "      <td>1905.94</td>\n",
       "      <td>4.9</td>\n",
       "      <td>Had to replace</td>\n",
       "    </tr>\n",
       "    <tr>\n",
       "      <th>9492</th>\n",
       "      <td>FAIL09993</td>\n",
       "      <td>Laptop</td>\n",
       "      <td>Dell</td>\n",
       "      <td>Model-168</td>\n",
       "      <td>21.0</td>\n",
       "      <td>Battery Issue</td>\n",
       "      <td>Yes</td>\n",
       "      <td>3186.38</td>\n",
       "      <td>1.8</td>\n",
       "      <td>Not satisfied</td>\n",
       "    </tr>\n",
       "    <tr>\n",
       "      <th>9493</th>\n",
       "      <td>FAIL09994</td>\n",
       "      <td>Smartphone</td>\n",
       "      <td>OnePlus</td>\n",
       "      <td>Model-864</td>\n",
       "      <td>11.0</td>\n",
       "      <td>Software Crash</td>\n",
       "      <td>Yes</td>\n",
       "      <td>2517.85</td>\n",
       "      <td>4.7</td>\n",
       "      <td>Perfect repair</td>\n",
       "    </tr>\n",
       "    <tr>\n",
       "      <th>9495</th>\n",
       "      <td>FAIL09996</td>\n",
       "      <td>Tablet</td>\n",
       "      <td>Apple</td>\n",
       "      <td>Model-856</td>\n",
       "      <td>30.0</td>\n",
       "      <td>Screen Crack</td>\n",
       "      <td>Yes</td>\n",
       "      <td>2556.98</td>\n",
       "      <td>1.5</td>\n",
       "      <td>Perfect repair</td>\n",
       "    </tr>\n",
       "    <tr>\n",
       "      <th>9499</th>\n",
       "      <td>FAIL10000</td>\n",
       "      <td>Smartwatch</td>\n",
       "      <td>Lenovo</td>\n",
       "      <td>Model-447</td>\n",
       "      <td>57.0</td>\n",
       "      <td>Overheating</td>\n",
       "      <td>Yes</td>\n",
       "      <td>750.07</td>\n",
       "      <td>4.3</td>\n",
       "      <td>Perfect repair</td>\n",
       "    </tr>\n",
       "  </tbody>\n",
       "</table>\n",
       "<p>4753 rows × 10 columns</p>\n",
       "</div>"
      ],
      "text/plain": [
       "     Failure_ID     Device_Type    Brand Model_Name  Usage_Duration  \\\n",
       "1     FAIL00002  Gaming Console  OnePlus  Model-873            21.0   \n",
       "4     FAIL00005  Gaming Console  OnePlus  Model-538             6.0   \n",
       "6     FAIL00007          Laptop  OnePlus  Model-274            19.0   \n",
       "9     FAIL00012  Gaming Console   Lenovo  Model-844            10.0   \n",
       "10    FAIL00013          Laptop     Dell  Model-637            55.0   \n",
       "...         ...             ...      ...        ...             ...   \n",
       "9491  FAIL09992          Tablet     Sony  Model-633            17.0   \n",
       "9492  FAIL09993          Laptop     Dell  Model-168            21.0   \n",
       "9493  FAIL09994      Smartphone  OnePlus  Model-864            11.0   \n",
       "9495  FAIL09996          Tablet    Apple  Model-856            30.0   \n",
       "9499  FAIL10000      Smartwatch   Lenovo  Model-447            57.0   \n",
       "\n",
       "             Failure_Type Warranty_Status  Repair_Cost  Customer_Rating  \\\n",
       "1             Overheating             Yes      3137.30              2.6   \n",
       "4          Software Crash             Yes       939.52              4.1   \n",
       "6     Speaker Malfunction             Yes      1340.16              2.5   \n",
       "9             Overheating             Yes      1970.02              3.5   \n",
       "10    Speaker Malfunction             Yes      1789.92              2.8   \n",
       "...                   ...             ...          ...              ...   \n",
       "9491  Speaker Malfunction             Yes      1905.94              4.9   \n",
       "9492        Battery Issue             Yes      3186.38              1.8   \n",
       "9493       Software Crash             Yes      2517.85              4.7   \n",
       "9495         Screen Crack             Yes      2556.98              1.5   \n",
       "9499          Overheating             Yes       750.07              4.3   \n",
       "\n",
       "              Comments  \n",
       "1        Fixed quickly  \n",
       "4        Not satisfied  \n",
       "6     Very bad service  \n",
       "9     Very bad service  \n",
       "10       Not satisfied  \n",
       "...                ...  \n",
       "9491    Had to replace  \n",
       "9492     Not satisfied  \n",
       "9493    Perfect repair  \n",
       "9495    Perfect repair  \n",
       "9499    Perfect repair  \n",
       "\n",
       "[4753 rows x 10 columns]"
      ]
     },
     "execution_count": 360,
     "metadata": {},
     "output_type": "execute_result"
    }
   ],
   "source": [
    "warranty_failures=data[data[\"Warranty_Status\"]==\"Yes\"]\n",
    "warranty_failures"
   ]
  },
  {
   "cell_type": "code",
   "execution_count": 362,
   "id": "3d4a6bcd",
   "metadata": {},
   "outputs": [
    {
     "data": {
      "text/plain": [
       "Failure_Type\n",
       "Battery Issue          936\n",
       "Overheating            993\n",
       "Screen Crack           967\n",
       "Software Crash         918\n",
       "Speaker Malfunction    939\n",
       "Name: Failure_ID, dtype: int64"
      ]
     },
     "execution_count": 362,
     "metadata": {},
     "output_type": "execute_result"
    }
   ],
   "source": [
    "warranty_failures.groupby(\"Failure_Type\")[\"Failure_ID\"].count()"
   ]
  },
  {
   "cell_type": "code",
   "execution_count": 380,
   "id": "967d2d53",
   "metadata": {},
   "outputs": [
    {
     "data": {
      "text/plain": [
       "<matplotlib.legend.Legend at 0x2257b51e590>"
      ]
     },
     "execution_count": 380,
     "metadata": {},
     "output_type": "execute_result"
    },
    {
     "data": {
      "image/png": "[encoded data removed]",
      "text/plain": [
       "<Figure size 640x480 with 1 Axes>"
      ]
     },
     "metadata": {},
     "output_type": "display_data"
    }
   ],
   "source": [
    "warranty_failures.groupby(\"Failure_Type\")[\"Failure_ID\"].count().plot(kind=\"pie\",autopct=\"%0.1f%%\")\n",
    "plt.legend(data[\"Failure_Type\"],loc=\"center left\",title=\"Failure Type\",\n",
    "bbox_to_anchor=(1, 0, 0.5, 1))\n"
   ]
  },
  {
   "cell_type": "markdown",
   "id": "c19302b0",
   "metadata": {},
   "source": [
    "## 14.Does Warranty_Status affect the likelihood of a high Repair_Cost?"
   ]
  },
  {
   "cell_type": "code",
   "execution_count": 381,
   "id": "e8343664",
   "metadata": {},
   "outputs": [
    {
     "data": {
      "text/plain": [
       "Warranty_Status\n",
       "No     2565.559286\n",
       "Yes    2557.175220\n",
       "Name: Repair_Cost, dtype: float64"
      ]
     },
     "execution_count": 381,
     "metadata": {},
     "output_type": "execute_result"
    }
   ],
   "source": [
    "data.groupby(\"Warranty_Status\")[\"Repair_Cost\"].mean()"
   ]
  },
  {
   "cell_type": "code",
   "execution_count": 493,
   "id": "39192fdd",
   "metadata": {},
   "outputs": [
    {
     "data": {
      "image/png": "[encoded data removed]",
      "text/plain": [
       "<Figure size 640x480 with 1 Axes>"
      ]
     },
     "metadata": {},
     "output_type": "display_data"
    }
   ],
   "source": [
    "sns.boxplot(x=\"Warranty_Status\", y=\"Repair_Cost\", data=data, palette=\"coolwarm\")\n",
    "plt.title(\"Repair Cost Distribution by Warranty Status\")\n",
    "plt.xlabel(\"Warranty Status\")\n",
    "plt.ylabel(\"Repair Cost\")\n",
    "plt.grid(axis=\"y\", linestyle=\"--\")\n",
    "plt.show()"
   ]
  },
  {
   "cell_type": "markdown",
   "id": "b7563d12",
   "metadata": {},
   "source": [
    "## 15.Which failure type is most common among the top 3 most expensive repairs?"
   ]
  },
  {
   "cell_type": "markdown",
   "id": "17a13ceb",
   "metadata": {},
   "source": [
    "The nlargest(n, columns) function in Pandas is used to retrieve the top n rows based on the highest values in a specified column. \n",
    "It is much faster than sorting the entire DataFrame and selecting the top rows manually."
   ]
  },
  {
   "cell_type": "code",
   "execution_count": 394,
   "id": "a46a7ae7",
   "metadata": {},
   "outputs": [
    {
     "data": {
      "text/html": [
       "<div>\n",
       "<style scoped>\n",
       "    .dataframe tbody tr th:only-of-type {\n",
       "        vertical-align: middle;\n",
       "    }\n",
       "\n",
       "    .dataframe tbody tr th {\n",
       "        vertical-align: top;\n",
       "    }\n",
       "\n",
       "    .dataframe thead th {\n",
       "        text-align: right;\n",
       "    }\n",
       "</style>\n",
       "<table border=\"1\" class=\"dataframe\">\n",
       "  <thead>\n",
       "    <tr style=\"text-align: right;\">\n",
       "      <th></th>\n",
       "      <th>Failure_ID</th>\n",
       "      <th>Device_Type</th>\n",
       "      <th>Brand</th>\n",
       "      <th>Model_Name</th>\n",
       "      <th>Usage_Duration</th>\n",
       "      <th>Failure_Type</th>\n",
       "      <th>Warranty_Status</th>\n",
       "      <th>Repair_Cost</th>\n",
       "      <th>Customer_Rating</th>\n",
       "      <th>Comments</th>\n",
       "    </tr>\n",
       "  </thead>\n",
       "  <tbody>\n",
       "    <tr>\n",
       "      <th>8584</th>\n",
       "      <td>FAIL09043</td>\n",
       "      <td>Laptop</td>\n",
       "      <td>HP</td>\n",
       "      <td>Model-916</td>\n",
       "      <td>24.0</td>\n",
       "      <td>Screen Crack</td>\n",
       "      <td>No</td>\n",
       "      <td>4998.82</td>\n",
       "      <td>2.7</td>\n",
       "      <td>Very bad service</td>\n",
       "    </tr>\n",
       "    <tr>\n",
       "      <th>9447</th>\n",
       "      <td>FAIL09946</td>\n",
       "      <td>Gaming Console</td>\n",
       "      <td>OnePlus</td>\n",
       "      <td>Model-388</td>\n",
       "      <td>46.0</td>\n",
       "      <td>Screen Crack</td>\n",
       "      <td>Yes</td>\n",
       "      <td>4998.59</td>\n",
       "      <td>4.4</td>\n",
       "      <td>Fixed quickly</td>\n",
       "    </tr>\n",
       "    <tr>\n",
       "      <th>384</th>\n",
       "      <td>FAIL00402</td>\n",
       "      <td>Smartwatch</td>\n",
       "      <td>Dell</td>\n",
       "      <td>Model-687</td>\n",
       "      <td>49.0</td>\n",
       "      <td>Screen Crack</td>\n",
       "      <td>No</td>\n",
       "      <td>4998.24</td>\n",
       "      <td>2.8</td>\n",
       "      <td>Very bad service</td>\n",
       "    </tr>\n",
       "  </tbody>\n",
       "</table>\n",
       "</div>"
      ],
      "text/plain": [
       "     Failure_ID     Device_Type    Brand Model_Name  Usage_Duration  \\\n",
       "8584  FAIL09043          Laptop       HP  Model-916            24.0   \n",
       "9447  FAIL09946  Gaming Console  OnePlus  Model-388            46.0   \n",
       "384   FAIL00402      Smartwatch     Dell  Model-687            49.0   \n",
       "\n",
       "      Failure_Type Warranty_Status  Repair_Cost  Customer_Rating  \\\n",
       "8584  Screen Crack              No      4998.82              2.7   \n",
       "9447  Screen Crack             Yes      4998.59              4.4   \n",
       "384   Screen Crack              No      4998.24              2.8   \n",
       "\n",
       "              Comments  \n",
       "8584  Very bad service  \n",
       "9447     Fixed quickly  \n",
       "384   Very bad service  "
      ]
     },
     "execution_count": 394,
     "metadata": {},
     "output_type": "execute_result"
    }
   ],
   "source": [
    "top_3_expensive = data.nlargest(3, \"Repair_Cost\")\n",
    "top_3_expensive"
   ]
  },
  {
   "cell_type": "code",
   "execution_count": 431,
   "id": "f392110a",
   "metadata": {},
   "outputs": [
    {
     "data": {
      "text/plain": [
       "'Screen Crack'"
      ]
     },
     "execution_count": 431,
     "metadata": {},
     "output_type": "execute_result"
    }
   ],
   "source": [
    "top_3_expensive[\"Failure_Type\"].value_counts().idxmax()#idxmax() returns the index of the highest value in a Series or DataFrame column."
   ]
  },
  {
   "cell_type": "markdown",
   "id": "b1152b94",
   "metadata": {},
   "source": [
    "# Customer Satisfaction & Insights"
   ]
  },
  {
   "cell_type": "markdown",
   "id": "8b2b3541",
   "metadata": {},
   "source": [
    "## 16.What is the distribution of Customer_Rating? Are there more positive or negative ratings?"
   ]
  },
  {
   "cell_type": "code",
   "execution_count": 399,
   "id": "a63a9467",
   "metadata": {},
   "outputs": [
    {
     "data": {
      "text/plain": [
       "Index(['Failure_ID', 'Device_Type', 'Brand', 'Model_Name', 'Usage_Duration',\n",
       "       'Failure_Type', 'Warranty_Status', 'Repair_Cost', 'Customer_Rating',\n",
       "       'Comments'],\n",
       "      dtype='object')"
      ]
     },
     "execution_count": 399,
     "metadata": {},
     "output_type": "execute_result"
    }
   ],
   "source": [
    "data.columns"
   ]
  },
  {
   "cell_type": "code",
   "execution_count": 406,
   "id": "44ac1a87",
   "metadata": {},
   "outputs": [
    {
     "data": {
      "text/plain": [
       "Customer_Rating\n",
       "4.1    274\n",
       "4.4    274\n",
       "4.3    272\n",
       "2.9    270\n",
       "2.4    255\n",
       "3.1    254\n",
       "4.9    253\n",
       "4.0    252\n",
       "2.5    251\n",
       "1.3    251\n",
       "1.6    248\n",
       "3.0    248\n",
       "3.7    247\n",
       "2.7    247\n",
       "3.5    246\n",
       "4.8    246\n",
       "3.3    246\n",
       "3.9    242\n",
       "1.8    242\n",
       "3.6    242\n",
       "1.5    241\n",
       "4.5    240\n",
       "1.4    240\n",
       "1.9    239\n",
       "1.7    236\n",
       "2.1    230\n",
       "4.7    227\n",
       "3.2    224\n",
       "1.2    223\n",
       "3.8    219\n",
       "4.2    218\n",
       "3.4    217\n",
       "4.6    216\n",
       "2.3    214\n",
       "1.1    212\n",
       "2.8    210\n",
       "2.2    209\n",
       "2.6    203\n",
       "2.0    199\n",
       "5.0    125\n",
       "1.0     98\n",
       "Name: count, dtype: int64"
      ]
     },
     "execution_count": 406,
     "metadata": {},
     "output_type": "execute_result"
    }
   ],
   "source": [
    "data[\"Customer_Rating\"].value_counts()"
   ]
  },
  {
   "cell_type": "code",
   "execution_count": 412,
   "id": "1d4d6f30",
   "metadata": {},
   "outputs": [
    {
     "data": {
      "text/plain": [
       "Customer_Rating\n",
       "1    2230\n",
       "2    2288\n",
       "3    2385\n",
       "4    2472\n",
       "5     125\n",
       "Name: count, dtype: int64"
      ]
     },
     "execution_count": 412,
     "metadata": {},
     "output_type": "execute_result"
    }
   ],
   "source": [
    "Customer_Rating_int=data[\"Customer_Rating\"].astype(int)\n",
    "Customer_Rating_int.value_counts().sort_index(ascending=True)"
   ]
  },
  {
   "cell_type": "code",
   "execution_count": 413,
   "id": "54384545",
   "metadata": {
    "scrolled": true
   },
   "outputs": [
    {
     "data": {
      "text/plain": [
       "<Axes: ylabel='count'>"
      ]
     },
     "execution_count": 413,
     "metadata": {},
     "output_type": "execute_result"
    },
    {
     "data": {
      "image/png": "[encoded data removed]",
      "text/plain": [
       "<Figure size 640x480 with 1 Axes>"
      ]
     },
     "metadata": {},
     "output_type": "display_data"
    }
   ],
   "source": [
    "Customer_Rating_int.value_counts().plot(kind=\"pie\",autopct=\"%.02f%%\")"
   ]
  },
  {
   "cell_type": "markdown",
   "id": "2d32aaac",
   "metadata": {},
   "source": [
    "## 17.Which Brand has the best average Customer_Rating post-repair?"
   ]
  },
  {
   "cell_type": "code",
   "execution_count": 433,
   "id": "7029fc3a",
   "metadata": {},
   "outputs": [
    {
     "data": {
      "text/plain": [
       "Brand\n",
       "HP         3.090839\n",
       "Lenovo     3.069288\n",
       "Samsung    3.046632\n",
       "Sony       3.016593\n",
       "Dell       3.004632\n",
       "Apple      3.003712\n",
       "OnePlus    2.977618\n",
       "Name: Customer_Rating, dtype: float64"
      ]
     },
     "execution_count": 433,
     "metadata": {},
     "output_type": "execute_result"
    }
   ],
   "source": [
    "data.groupby(\"Brand\")[\"Customer_Rating\"].mean().sort_values(ascending=False)"
   ]
  },
  {
   "cell_type": "markdown",
   "id": "3ad195f6",
   "metadata": {},
   "source": [
    "## 18.Create a word cloud from the Comments column to highlight frequently occurring words in customer feedback."
   ]
  },
  {
   "cell_type": "code",
   "execution_count": 452,
   "id": "7b3068d1",
   "metadata": {},
   "outputs": [],
   "source": [
    "#import library\n",
    "from wordcloud import WordCloud"
   ]
  },
  {
   "cell_type": "code",
   "execution_count": 498,
   "id": "5d9474a2",
   "metadata": {},
   "outputs": [],
   "source": [
    "# Combining all comments into a single text\n",
    "text = \" \".join(str(comment) for comment in data[\"Comments\"])"
   ]
  },
  {
   "cell_type": "code",
   "execution_count": 485,
   "id": "d28670af",
   "metadata": {},
   "outputs": [],
   "source": [
    "# Generating word cloud\n",
    "wordcloud = WordCloud(width=800, height=400, background_color=\"white\", colormap=\"magma\", max_words=100).generate(text)"
   ]
  },
  {
   "cell_type": "code",
   "execution_count": 488,
   "id": "98c3be8e",
   "metadata": {},
   "outputs": [
    {
     "data": {
      "image/png": "[encoded data removed]",
      "text/plain": [
       "<Figure size 1000x500 with 1 Axes>"
      ]
     },
     "metadata": {},
     "output_type": "display_data"
    }
   ],
   "source": [
    "# Plot the word cloud\n",
    "plt.figure(figsize=(10, 5))\n",
    "plt.imshow(wordcloud, interpolation=\"bilinear\")\n",
    "plt.axis(\"off\")  # Hide axes\n",
    "plt.title(\"Word Cloud of Customer Feedback\", fontsize=14)\n",
    "plt.show()"
   ]
  },
  {
   "cell_type": "code",
   "execution_count": 491,
   "id": "963abfe4",
   "metadata": {},
   "outputs": [],
   "source": [
    "#The most frequent words appear larger, while less frequent ones appear smaller."
   ]
  },
  {
   "cell_type": "code",
   "execution_count": null,
   "id": "d5bacec7",
   "metadata": {},
   "outputs": [],
   "source": []
  },
  {
   "cell_type": "code",
   "execution_count": null,
   "id": "0fe721a4",
   "metadata": {},
   "outputs": [],
   "source": []
  },
  {
   "cell_type": "code",
   "execution_count": null,
   "id": "aaefb034",
   "metadata": {},
   "outputs": [],
   "source": []
  },
  {
   "cell_type": "code",
   "execution_count": null,
   "id": "e07226c0",
   "metadata": {},
   "outputs": [],
   "source": []
  },
  {
   "cell_type": "code",
   "execution_count": null,
   "id": "95fe6478",
   "metadata": {},
   "outputs": [],
   "source": []
  }
 ],
 "metadata": {
  "kernelspec": {
   "display_name": "Python 3 (ipykernel)",
   "language": "python",
   "name": "python3"
  },
  "language_info": {
   "codemirror_mode": {
    "name": "ipython",
    "version": 3
   },
   "file_extension": ".py",
   "mimetype": "text/x-python",
   "name": "python",
   "nbconvert_exporter": "python",
   "pygments_lexer": "ipython3",
   "version": "3.11.7"
  }
 },
 "nbformat": 4,
 "nbformat_minor": 5
}
